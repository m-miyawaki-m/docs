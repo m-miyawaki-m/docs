{
 "cells": [
  {
   "cell_type": "code",
   "execution_count": 20,
   "metadata": {},
   "outputs": [
    {
     "name": "stdout",
     "output_type": "stream",
     "text": [
      "CSV 読み込み完了：c:\\Development\\docs\\note\\英語\\中学英語をもう一度ひとつひとつ分かりやすく。改訂版\\データ：中学英語をもう一度ひとつひとつ分かりやすく。改訂版.csv\n"
     ]
    }
   ],
   "source": [
    "import pandas as pd\n",
    "from tkinter import Tk, filedialog\n",
    "\n",
    "# # Tkinter のウィンドウを作成して最前面に設定\n",
    "# root = Tk()\n",
    "# root.attributes(\"-topmost\", True)  # 最前面にする\n",
    "# root.withdraw()  # ウィンドウを非表示\n",
    "\n",
    "# # ファイル選択ダイアログを開く\n",
    "# file_path = filedialog.askopenfilename(filetypes=[(\"CSV files\", \"*.csv\")], parent=root)\n",
    "\n",
    "# # CSVを読み込む\n",
    "# if file_path:\n",
    "#     df = pd.read_csv(file_path, encoding=\"utf-8\", header=None)\n",
    "#     df.columns = [\"Chapter\", \"Category\", \"Question\", \"Answer\"]  # カラム名を設定\n",
    "#     grouped = df.groupby(\"Chapter\")  # 章ごとにグループ化\n",
    "#     print(\"CSV 読み込み完了。データを利用できます。\")\n",
    "# else:\n",
    "#     print(\"ファイルが選択されませんでした。\")\n",
    "# 関数の定義\n",
    "\n",
    "import os\n",
    "\n",
    "# スクリプトがあるディレクトリのパスを取得\n",
    "script_dir = os.path.dirname(os.path.abspath(__file__)) if \"__file__\" in globals() else os.getcwd()\n",
    "\n",
    "# 指定ディレクトリ内のCSVファイルを取得\n",
    "csv_files = [f for f in os.listdir(script_dir) if f.endswith(\".csv\")]\n",
    "\n",
    "if not csv_files:\n",
    "    print(\"CSV ファイルが見つかりませんでした。\")\n",
    "else:\n",
    "    # 最初の CSV を読み込む（複数ある場合は最初のファイル）\n",
    "    file_path = os.path.join(script_dir, csv_files[0])\n",
    "    df = pd.read_csv(file_path, encoding=\"utf-8\", header=None)\n",
    "    df.columns = [\"Chapter\", \"Category\", \"Question\", \"Answer\"]  # カラム名を設定\n",
    "    grouped = df.groupby(\"Chapter\")  # 章ごとにグループ化\n",
    "\n",
    "    print(f\"CSV 読み込み完了：{file_path}\")\n",
    "\n",
    "\n",
    "def show_answer(chapter_name):\n",
    "    \"\"\" 指定した章の質問と回答を表示（例の前で改行）\"\"\"\n",
    "    if chapter_name in grouped.groups:\n",
    "        print(f\"\\n### {chapter_name} ###\")\n",
    "        for _, row in grouped.get_group(chapter_name).iterrows():\n",
    "            formatted_answer = row['Answer'].replace(\"例：\", \"\\n例：\")\n",
    "            print(f\"Q: {row['Question']}\\nA: {formatted_answer}\\n\")\n",
    "    else:\n",
    "        print(f\"{chapter_name} はデータに存在しません。\")\n",
    "\n",
    "def show_questions_only(chapter_name):\n",
    "    \"\"\" 指定した章の質問（問）のみを表示 \"\"\"\n",
    "    if chapter_name in grouped.groups:\n",
    "        print(f\"\\n### {chapter_name} の質問一覧 ###\")\n",
    "        for _, row in grouped.get_group(chapter_name).iterrows():\n",
    "            print(f\"Q: {row['Question']}\")\n",
    "    else:\n",
    "        print(f\"{chapter_name} はデータに存在しません。\")\n",
    "\n",
    "\n",
    "\n"
   ]
  },
  {
   "cell_type": "markdown",
   "metadata": {},
   "source": [
    "### 質問表示\n",
    "show_questions_only(\"CHAPTER01\")\n",
    "\n",
    "### 解答表示\n",
    "show_answer(\"CHAPTER01\")"
   ]
  },
  {
   "cell_type": "code",
   "execution_count": 17,
   "metadata": {},
   "outputs": [
    {
     "name": "stdout",
     "output_type": "stream",
     "text": [
      "\n",
      "### CHAPTER01 の質問一覧 ###\n",
      "Q: am are isの使い分け\n",
      "Q: am are isの整理\n",
      "Q: 「be動詞」とは？\n",
      "Q: 「主語」と「動詞」とは？\n"
     ]
    }
   ],
   "source": [
    "show_questions_only(\"CHAPTER01\")"
   ]
  },
  {
   "cell_type": "code",
   "execution_count": 21,
   "metadata": {},
   "outputs": [
    {
     "name": "stdout",
     "output_type": "stream",
     "text": [
      "\n",
      "### CHAPTER01 ###\n",
      "Q: am are isの使い分け\n",
      "A: 「am」は主語が「I」の場合、「are」は主語が「you, we, they」など複数の時、「is」は主語が「he, she, it」など単数の時に使います。\n",
      "\n",
      "Q: am are isの整理\n",
      "A: 「am」は主語が「I」の時、「are」は「you, we, they」など複数形の主語の時、「is」は「he, she, it」など単数形の主語の時に使われます。\n",
      "\n",
      "Q: 「be動詞」とは？\n",
      "A: be動詞とは「am, are, is, was, were」などの動詞で、主語の状態や存在を表します。\n",
      "\n",
      "Q: 「主語」と「動詞」とは？\n",
      "A: 主語とは文の主体となるもの（\n",
      "例：I, you, he, she, it など）、動詞とは主語の動作や状態を表す単語（\n",
      "例：run, eat, is, are など）です。\n",
      "\n"
     ]
    }
   ],
   "source": [
    "show_answer(\"CHAPTER01\")"
   ]
  }
 ],
 "metadata": {
  "kernelspec": {
   "display_name": "Python 3",
   "language": "python",
   "name": "python3"
  },
  "language_info": {
   "codemirror_mode": {
    "name": "ipython",
    "version": 3
   },
   "file_extension": ".py",
   "mimetype": "text/x-python",
   "name": "python",
   "nbconvert_exporter": "python",
   "pygments_lexer": "ipython3",
   "version": "3.13.1"
  }
 },
 "nbformat": 4,
 "nbformat_minor": 2
}

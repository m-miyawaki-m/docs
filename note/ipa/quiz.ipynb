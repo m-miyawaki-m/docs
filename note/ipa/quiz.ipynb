{
 "cells": [
  {
   "cell_type": "code",
   "execution_count": null,
   "metadata": {},
   "outputs": [],
   "source": [
    "# pandasをインポートする\n",
    "import pandas as pd\n",
    "\n",
    "# CSVファイルを読み込む\n",
    "file_path = '/mnt/data/fe_keywords_full.csv'  # ファイルのパス\n",
    "data = pd.read_csv(file_path)\n",
    "\n",
    "# データの内容を表示\n",
    "print(data.head())\n"
   ]
  }
 ],
 "metadata": {
  "language_info": {
   "name": "python"
  }
 },
 "nbformat": 4,
 "nbformat_minor": 2
}
